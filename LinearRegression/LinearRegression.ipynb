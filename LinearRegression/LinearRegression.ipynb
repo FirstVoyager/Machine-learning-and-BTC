{
 "cells": [
  {
   "cell_type": "code",
   "execution_count": 27,
   "metadata": {},
   "outputs": [],
   "source": [
    "# import libraries\n",
    "import pandas as pd\n",
    "import numpy as np\n",
    "import matplotlib.pyplot as plt\n",
    "from sklearn.linear_model import LinearRegression\n",
    "from sklearn.metrics import r2_score"
   ]
  },
  {
   "cell_type": "code",
   "execution_count": 18,
   "metadata": {},
   "outputs": [
    {
     "data": {
      "text/html": [
       "<div>\n",
       "<style scoped>\n",
       "    .dataframe tbody tr th:only-of-type {\n",
       "        vertical-align: middle;\n",
       "    }\n",
       "\n",
       "    .dataframe tbody tr th {\n",
       "        vertical-align: top;\n",
       "    }\n",
       "\n",
       "    .dataframe thead th {\n",
       "        text-align: right;\n",
       "    }\n",
       "</style>\n",
       "<table border=\"1\" class=\"dataframe\">\n",
       "  <thead>\n",
       "    <tr style=\"text-align: right;\">\n",
       "      <th></th>\n",
       "      <th>Time</th>\n",
       "      <th>Open</th>\n",
       "      <th>High</th>\n",
       "      <th>Low</th>\n",
       "      <th>Close</th>\n",
       "      <th>Volume</th>\n",
       "    </tr>\n",
       "  </thead>\n",
       "  <tbody>\n",
       "    <tr>\n",
       "      <th>0</th>\n",
       "      <td>2017-05-22 23:00:00</td>\n",
       "      <td>2104.6</td>\n",
       "      <td>2134.0</td>\n",
       "      <td>2101.3</td>\n",
       "      <td>2131.2</td>\n",
       "      <td>19</td>\n",
       "    </tr>\n",
       "    <tr>\n",
       "      <th>1</th>\n",
       "      <td>2017-05-22 23:15:00</td>\n",
       "      <td>2131.2</td>\n",
       "      <td>2153.2</td>\n",
       "      <td>2123.7</td>\n",
       "      <td>2132.9</td>\n",
       "      <td>17</td>\n",
       "    </tr>\n",
       "    <tr>\n",
       "      <th>2</th>\n",
       "      <td>2017-05-22 23:30:00</td>\n",
       "      <td>2132.8</td>\n",
       "      <td>2136.4</td>\n",
       "      <td>2116.8</td>\n",
       "      <td>2135.1</td>\n",
       "      <td>22</td>\n",
       "    </tr>\n",
       "    <tr>\n",
       "      <th>3</th>\n",
       "      <td>2017-05-22 23:45:00</td>\n",
       "      <td>2142.4</td>\n",
       "      <td>2154.2</td>\n",
       "      <td>2112.8</td>\n",
       "      <td>2142.1</td>\n",
       "      <td>24</td>\n",
       "    </tr>\n",
       "    <tr>\n",
       "      <th>4</th>\n",
       "      <td>2017-05-23 00:00:00</td>\n",
       "      <td>2142.4</td>\n",
       "      <td>2169.6</td>\n",
       "      <td>2117.5</td>\n",
       "      <td>2162.3</td>\n",
       "      <td>16</td>\n",
       "    </tr>\n",
       "  </tbody>\n",
       "</table>\n",
       "</div>"
      ],
      "text/plain": [
       "                  Time    Open    High     Low   Close  Volume\n",
       "0  2017-05-22 23:00:00  2104.6  2134.0  2101.3  2131.2      19\n",
       "1  2017-05-22 23:15:00  2131.2  2153.2  2123.7  2132.9      17\n",
       "2  2017-05-22 23:30:00  2132.8  2136.4  2116.8  2135.1      22\n",
       "3  2017-05-22 23:45:00  2142.4  2154.2  2112.8  2142.1      24\n",
       "4  2017-05-23 00:00:00  2142.4  2169.6  2117.5  2162.3      16"
      ]
     },
     "execution_count": 18,
     "metadata": {},
     "output_type": "execute_result"
    }
   ],
   "source": [
    "# read data\n",
    "df = pd.read_csv('BTCUSD_M15.csv')\n",
    "df.head()"
   ]
  },
  {
   "cell_type": "code",
   "execution_count": 19,
   "metadata": {},
   "outputs": [],
   "source": [
    "# Preprossing data\n",
    "\n",
    "# convert to number\n",
    "df = df.astype({'Open': int, 'High': int, 'Low': int, 'Close': int, 'Volume': int})"
   ]
  },
  {
   "cell_type": "code",
   "execution_count": 25,
   "metadata": {},
   "outputs": [
    {
     "data": {
      "image/png": "[encoded data removed]",
      "text/plain": [
       "<Figure size 432x288 with 1 Axes>"
      ]
     },
     "metadata": {
      "needs_background": "light"
     },
     "output_type": "display_data"
    }
   ],
   "source": [
    "# plot data\n",
    "volume = np.asanyarray(df[['Volume']])\n",
    "close = np.asanyarray(df[['Close']])\n",
    "\n",
    "plt.scatter(volume, close, s=0.2)\n",
    "plt.xlabel('Volume')\n",
    "plt.ylabel('Close')\n",
    "plt.show()"
   ]
  },
  {
   "cell_type": "code",
   "execution_count": 30,
   "metadata": {},
   "outputs": [
    {
     "name": "stdout",
     "output_type": "stream",
     "text": [
      "Predict = 0.00013704249318402528\n"
     ]
    }
   ],
   "source": [
    "# Simple Linear regression\n",
    "dfTrain = df.sample(frac=0.8, random_state=4)\n",
    "dfTest = df.drop(dfTrain.index)\n",
    "\n",
    "volumeTrain = np.asanyarray(dfTrain[['Volume']])\n",
    "closeTrain = np.asanyarray(dfTrain[['Close']])\n",
    "volumeTest = np.asanyarray(dfTest[['Volume']])\n",
    "closeTest = np.asanyarray(dfTest[['Close']])\n",
    "\n",
    "reg = LinearRegression()\n",
    "reg.fit(volumeTrain, closeTrain)\n",
    "closePredict = reg.predict(volumeTest)\n",
    "\n",
    "percent = r2_score(closeTest, closePredict)\n",
    "print(\"Predict = {}\".format(percent))"
   ]
  }
 ],
 "metadata": {
  "kernelspec": {
   "display_name": "Python 3.9.12 64-bit",
   "language": "python",
   "name": "python3"
  },
  "language_info": {
   "codemirror_mode": {
    "name": "ipython",
    "version": 3
   },
   "file_extension": ".py",
   "mimetype": "text/x-python",
   "name": "python",
   "nbconvert_exporter": "python",
   "pygments_lexer": "ipython3",
   "version": "3.9.13"
  },
  "orig_nbformat": 4,
  "vscode": {
   "interpreter": {
    "hash": "e7370f93d1d0cde622a1f8e1c04877d8463912d04d973331ad4851f04de6915a"
   }
  }
 },
 "nbformat": 4,
 "nbformat_minor": 2
}
