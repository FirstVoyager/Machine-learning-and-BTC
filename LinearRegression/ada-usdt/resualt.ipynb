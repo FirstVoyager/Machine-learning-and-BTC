{
 "cells": [
  {
   "cell_type": "code",
   "execution_count": 15,
   "metadata": {},
   "outputs": [],
   "source": [
    "import yfinance as yf\n",
    "import pandas as pd\n",
    "import pickle\n",
    "import numpy as np\n",
    "import pandas as pd\n",
    "\n",
    "model = pickle.load(open('adaModel.sav', 'rb'))"
   ]
  },
  {
   "cell_type": "code",
   "execution_count": 18,
   "metadata": {},
   "outputs": [
    {
     "name": "stdout",
     "output_type": "stream",
     "text": [
      "[*********************100%***********************]  1 of 1 completed\n",
      "45\n"
     ]
    },
    {
     "name": "stderr",
     "output_type": "stream",
     "text": [
      "/tmp/ipykernel_213466/3246416221.py:16: SettingWithCopyWarning: \n",
      "A value is trying to be set on a copy of a slice from a DataFrame.\n",
      "Try using .loc[row_indexer,col_indexer] = value instead\n",
      "\n",
      "See the caveats in the documentation: https://pandas.pydata.org/pandas-docs/stable/user_guide/indexing.html#returning-a-view-versus-a-copy\n",
      "  df['True_ranage'] = np.abs(df['Close'] - df['Open'])\n",
      "/tmp/ipykernel_213466/3246416221.py:26: SettingWithCopyWarning: \n",
      "A value is trying to be set on a copy of a slice from a DataFrame.\n",
      "Try using .loc[row_indexer,col_indexer] = value instead\n",
      "\n",
      "See the caveats in the documentation: https://pandas.pydata.org/pandas-docs/stable/user_guide/indexing.html#returning-a-view-versus-a-copy\n",
      "  df['atr_14'] = average_true_range.tolist()\n",
      "/tmp/ipykernel_213466/3246416221.py:33: SettingWithCopyWarning: \n",
      "A value is trying to be set on a copy of a slice from a DataFrame.\n",
      "Try using .loc[row_indexer,col_indexer] = value instead\n",
      "\n",
      "See the caveats in the documentation: https://pandas.pydata.org/pandas-docs/stable/user_guide/indexing.html#returning-a-view-versus-a-copy\n",
      "  df['status'] = np.select(condlist=conditions, choicelist=choices, default=0)\n",
      "/tmp/ipykernel_213466/3246416221.py:41: SettingWithCopyWarning: \n",
      "A value is trying to be set on a copy of a slice from a DataFrame.\n",
      "Try using .loc[row_indexer,col_indexer] = value instead\n",
      "\n",
      "See the caveats in the documentation: https://pandas.pydata.org/pandas-docs/stable/user_guide/indexing.html#returning-a-view-versus-a-copy\n",
      "  df['candle_type'] = np.select(condlist=condistions, choicelist=choices, default=1)\n",
      "/tmp/ipykernel_213466/3246416221.py:45: SettingWithCopyWarning: \n",
      "A value is trying to be set on a copy of a slice from a DataFrame.\n",
      "Try using .loc[row_indexer,col_indexer] = value instead\n",
      "\n",
      "See the caveats in the documentation: https://pandas.pydata.org/pandas-docs/stable/user_guide/indexing.html#returning-a-view-versus-a-copy\n",
      "  df['AP_multipy'] = df['atr_14'] * df['Previous_Close']\n",
      "/tmp/ipykernel_213466/3246416221.py:48: SettingWithCopyWarning: \n",
      "A value is trying to be set on a copy of a slice from a DataFrame.\n",
      "Try using .loc[row_indexer,col_indexer] = value instead\n",
      "\n",
      "See the caveats in the documentation: https://pandas.pydata.org/pandas-docs/stable/user_guide/indexing.html#returning-a-view-versus-a-copy\n",
      "  df['AS_multipy'] = df['atr_14'] * df['Size']\n",
      "/tmp/ipykernel_213466/3246416221.py:51: SettingWithCopyWarning: \n",
      "A value is trying to be set on a copy of a slice from a DataFrame.\n",
      "Try using .loc[row_indexer,col_indexer] = value instead\n",
      "\n",
      "See the caveats in the documentation: https://pandas.pydata.org/pandas-docs/stable/user_guide/indexing.html#returning-a-view-versus-a-copy\n",
      "  df['AV_multipy'] = df['atr_14'] * df['Volume']\n"
     ]
    }
   ],
   "source": [
    "df = yf.download(tickers='ADA-USD', period='12h', interval= '15m')\n",
    "print(len(df))\n",
    "columns = df.columns.values\n",
    "# high - low\n",
    "if not 'Size' in columns:\n",
    "    df['Size'] = df['High'] - df['Low']\n",
    "# shift back\n",
    "if not 'Previous_Close' in columns:\n",
    "    df['Previous_Close'] = df['Close'].shift(-1)\n",
    "# size * volume\n",
    "if not 'VS_multipy' in columns:\n",
    "    df['VS_multipy'] = df['Size'] * df['Volume']\n",
    "    df = df[1:-1]\n",
    "# true range\n",
    "if not 'True_ranage' in columns:\n",
    "    df['True_ranage'] = np.abs(df['Close'] - df['Open'])\n",
    "\n",
    "# cacluate atr 14\n",
    "if not 'atr_14' in columns:\n",
    "    high_low = df['High'] - df['Low']\n",
    "    high_cp = np.abs(df['High'] - df['Close'].shift())\n",
    "    low_cp = np.abs(df['Low'] - df['Close'].shift())\n",
    "    df_ = pd.concat([high_low, high_cp, low_cp], axis=1)\n",
    "    true_range = np.max(df_, axis=1)\n",
    "    average_true_range = true_range.rolling(14).mean()\n",
    "    df['atr_14'] = average_true_range.tolist()\n",
    "    df = df[14:]\n",
    "\n",
    "# candle colors\n",
    "if not 'status' in columns:\n",
    "    conditions = [(df['Close'] > df['Open']), (df['Close'] < df['Open']), (df['Close'] == df['Open'])]\n",
    "    choices = [1, -1, 0] # up, down, zero\n",
    "    df['status'] = np.select(condlist=conditions, choicelist=choices, default=0)\n",
    "# candle types\n",
    "if not 'candle_type' in columns:\n",
    "    condistions = [\n",
    "        (df['True_ranage'] < 0.8 * df['atr_14']), \n",
    "        ((df['True_ranage'] > 0.8 * df['atr_14']) & (df['True_ranage'] < 1.2 * df['atr_14'])), \n",
    "        ((df['True_ranage'] > 1.2 * df['atr_14']))]\n",
    "    choices = [0, 1, 2] # 0 --> spining candles, 1 --> standard candles, 2 --> spike candles\n",
    "    df['candle_type'] = np.select(condlist=condistions, choicelist=choices, default=1)\n",
    "\n",
    "# atr_55 * previous close\n",
    "if not 'AP_multipy' in columns:\n",
    "    df['AP_multipy'] = df['atr_14'] * df['Previous_Close']\n",
    "# atr_55 * Size\n",
    "if not 'AS_multipy' in columns:\n",
    "    df['AS_multipy'] = df['atr_14'] * df['Size']\n",
    "# atr_55 * Volume\n",
    "if not 'AV_multipy' in columns:\n",
    "    df['AV_multipy'] = df['atr_14'] * df['Volume']\n",
    "if not 'typeSize' in columns:\n",
    "    df['typeSize'] = df[(df.True_ranage < 0.8 * df.atr_14)]['atr_14'] * 0.8\n",
    "    df['typeSize'] = df[(df.True_ranage > 0.8 * df.atr_14) & df.True_ranage < 1.2 * df.atr_14]['atr_14']\n",
    "    df['typeSize'] = df[(df.True_ranage > 1.2 * df.atr_14)]['atr_14'] * 1.2"
   ]
  },
  {
   "cell_type": "code",
   "execution_count": 19,
   "metadata": {},
   "outputs": [
    {
     "name": "stdout",
     "output_type": "stream",
     "text": [
      "Close of next Candle : [0.18458639]\n"
     ]
    }
   ],
   "source": [
    "x = df[['Size', 'Volume', 'VS_multipy', 'AP_multipy', 'AS_multipy']].values\n",
    "x = x[len(x) - 1]\n",
    "close = model.predict(x.reshape(1, -1))\n",
    "print('Close of next Candle : {}'.format(close))"
   ]
  }
 ],
 "metadata": {
  "kernelspec": {
   "display_name": "Python 3.9.13 64-bit",
   "language": "python",
   "name": "python3"
  },
  "language_info": {
   "codemirror_mode": {
    "name": "ipython",
    "version": 3
   },
   "file_extension": ".py",
   "mimetype": "text/x-python",
   "name": "python",
   "nbconvert_exporter": "python",
   "pygments_lexer": "ipython3",
   "version": "3.9.13"
  },
  "orig_nbformat": 4,
  "vscode": {
   "interpreter": {
    "hash": "e7370f93d1d0cde622a1f8e1c04877d8463912d04d973331ad4851f04de6915a"
   }
  }
 },
 "nbformat": 4,
 "nbformat_minor": 2
}
