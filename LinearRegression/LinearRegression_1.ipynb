{
 "cells": [
  {
   "cell_type": "code",
   "execution_count": 1,
   "metadata": {},
   "outputs": [],
   "source": [
    "import pandas as pd\n",
    "import numpy as np\n",
    "import matplotlib.pyplot as plt\n",
    "from sklearn import linear_model\n",
    "from sklearn.metrics import r2_score"
   ]
  },
  {
   "cell_type": "code",
   "execution_count": 2,
   "metadata": {},
   "outputs": [
    {
     "data": {
      "text/html": [
       "<div>\n",
       "<style scoped>\n",
       "    .dataframe tbody tr th:only-of-type {\n",
       "        vertical-align: middle;\n",
       "    }\n",
       "\n",
       "    .dataframe tbody tr th {\n",
       "        vertical-align: top;\n",
       "    }\n",
       "\n",
       "    .dataframe thead th {\n",
       "        text-align: right;\n",
       "    }\n",
       "</style>\n",
       "<table border=\"1\" class=\"dataframe\">\n",
       "  <thead>\n",
       "    <tr style=\"text-align: right;\">\n",
       "      <th></th>\n",
       "      <th>Unnamed: 0</th>\n",
       "      <th>Time</th>\n",
       "      <th>Open</th>\n",
       "      <th>High</th>\n",
       "      <th>Low</th>\n",
       "      <th>Close</th>\n",
       "      <th>Volume</th>\n",
       "      <th>status</th>\n",
       "    </tr>\n",
       "  </thead>\n",
       "  <tbody>\n",
       "    <tr>\n",
       "      <th>0</th>\n",
       "      <td>0</td>\n",
       "      <td>2017-05-22 20:00:00</td>\n",
       "      <td>2104.6</td>\n",
       "      <td>2154.2</td>\n",
       "      <td>2101.3</td>\n",
       "      <td>2192.9</td>\n",
       "      <td>81</td>\n",
       "      <td>1</td>\n",
       "    </tr>\n",
       "    <tr>\n",
       "      <th>1</th>\n",
       "      <td>1</td>\n",
       "      <td>2017-05-23 00:00:00</td>\n",
       "      <td>2142.4</td>\n",
       "      <td>2202.8</td>\n",
       "      <td>2100.4</td>\n",
       "      <td>2170.2</td>\n",
       "      <td>311</td>\n",
       "      <td>1</td>\n",
       "    </tr>\n",
       "    <tr>\n",
       "      <th>2</th>\n",
       "      <td>2</td>\n",
       "      <td>2017-05-23 04:00:00</td>\n",
       "      <td>2191.4</td>\n",
       "      <td>2209.1</td>\n",
       "      <td>2122.4</td>\n",
       "      <td>2227.8</td>\n",
       "      <td>299</td>\n",
       "      <td>-1</td>\n",
       "    </tr>\n",
       "    <tr>\n",
       "      <th>3</th>\n",
       "      <td>3</td>\n",
       "      <td>2017-05-23 08:00:00</td>\n",
       "      <td>2170.1</td>\n",
       "      <td>2238.8</td>\n",
       "      <td>2113.1</td>\n",
       "      <td>2185.1</td>\n",
       "      <td>489</td>\n",
       "      <td>1</td>\n",
       "    </tr>\n",
       "    <tr>\n",
       "      <th>4</th>\n",
       "      <td>4</td>\n",
       "      <td>2017-05-23 12:00:00</td>\n",
       "      <td>2227.7</td>\n",
       "      <td>2266.5</td>\n",
       "      <td>2174.5</td>\n",
       "      <td>2215.4</td>\n",
       "      <td>638</td>\n",
       "      <td>-1</td>\n",
       "    </tr>\n",
       "  </tbody>\n",
       "</table>\n",
       "</div>"
      ],
      "text/plain": [
       "   Unnamed: 0                 Time    Open    High     Low   Close  Volume  \\\n",
       "0           0  2017-05-22 20:00:00  2104.6  2154.2  2101.3  2192.9      81   \n",
       "1           1  2017-05-23 00:00:00  2142.4  2202.8  2100.4  2170.2     311   \n",
       "2           2  2017-05-23 04:00:00  2191.4  2209.1  2122.4  2227.8     299   \n",
       "3           3  2017-05-23 08:00:00  2170.1  2238.8  2113.1  2185.1     489   \n",
       "4           4  2017-05-23 12:00:00  2227.7  2266.5  2174.5  2215.4     638   \n",
       "\n",
       "   status  \n",
       "0       1  \n",
       "1       1  \n",
       "2      -1  \n",
       "3       1  \n",
       "4      -1  "
      ]
     },
     "execution_count": 2,
     "metadata": {},
     "output_type": "execute_result"
    }
   ],
   "source": [
    "csvPath = 'BTCUSD_H4.csv'\n",
    "df = pd.read_csv(csvPath)\n",
    "dfTrain = df.sample(frac=0.8, random_state=0)\n",
    "dfTest = df.drop(dfTrain.index)\n",
    "\n",
    "df.head()"
   ]
  },
  {
   "cell_type": "code",
   "execution_count": 3,
   "metadata": {},
   "outputs": [
    {
     "data": {
      "text/html": [
       "<div>\n",
       "<style scoped>\n",
       "    .dataframe tbody tr th:only-of-type {\n",
       "        vertical-align: middle;\n",
       "    }\n",
       "\n",
       "    .dataframe tbody tr th {\n",
       "        vertical-align: top;\n",
       "    }\n",
       "\n",
       "    .dataframe thead th {\n",
       "        text-align: right;\n",
       "    }\n",
       "</style>\n",
       "<table border=\"1\" class=\"dataframe\">\n",
       "  <thead>\n",
       "    <tr style=\"text-align: right;\">\n",
       "      <th></th>\n",
       "      <th>Unnamed: 0</th>\n",
       "      <th>Time</th>\n",
       "      <th>Open</th>\n",
       "      <th>High</th>\n",
       "      <th>Low</th>\n",
       "      <th>Close</th>\n",
       "      <th>Volume</th>\n",
       "      <th>status</th>\n",
       "    </tr>\n",
       "  </thead>\n",
       "  <tbody>\n",
       "    <tr>\n",
       "      <th>0</th>\n",
       "      <td>0</td>\n",
       "      <td>2017-05-22 20:00:00</td>\n",
       "      <td>2104.6</td>\n",
       "      <td>2154.2</td>\n",
       "      <td>2101.3</td>\n",
       "      <td>2192.9</td>\n",
       "      <td>81</td>\n",
       "      <td>1.0</td>\n",
       "    </tr>\n",
       "    <tr>\n",
       "      <th>1</th>\n",
       "      <td>1</td>\n",
       "      <td>2017-05-23 00:00:00</td>\n",
       "      <td>2142.4</td>\n",
       "      <td>2202.8</td>\n",
       "      <td>2100.4</td>\n",
       "      <td>2170.2</td>\n",
       "      <td>311</td>\n",
       "      <td>1.0</td>\n",
       "    </tr>\n",
       "    <tr>\n",
       "      <th>2</th>\n",
       "      <td>2</td>\n",
       "      <td>2017-05-23 04:00:00</td>\n",
       "      <td>2191.4</td>\n",
       "      <td>2209.1</td>\n",
       "      <td>2122.4</td>\n",
       "      <td>2227.8</td>\n",
       "      <td>299</td>\n",
       "      <td>1.0</td>\n",
       "    </tr>\n",
       "    <tr>\n",
       "      <th>3</th>\n",
       "      <td>3</td>\n",
       "      <td>2017-05-23 08:00:00</td>\n",
       "      <td>2170.1</td>\n",
       "      <td>2238.8</td>\n",
       "      <td>2113.1</td>\n",
       "      <td>2185.1</td>\n",
       "      <td>489</td>\n",
       "      <td>1.0</td>\n",
       "    </tr>\n",
       "    <tr>\n",
       "      <th>4</th>\n",
       "      <td>4</td>\n",
       "      <td>2017-05-23 12:00:00</td>\n",
       "      <td>2227.7</td>\n",
       "      <td>2266.5</td>\n",
       "      <td>2174.5</td>\n",
       "      <td>2215.4</td>\n",
       "      <td>638</td>\n",
       "      <td>-1.0</td>\n",
       "    </tr>\n",
       "  </tbody>\n",
       "</table>\n",
       "</div>"
      ],
      "text/plain": [
       "   Unnamed: 0                 Time    Open    High     Low   Close  Volume  \\\n",
       "0           0  2017-05-22 20:00:00  2104.6  2154.2  2101.3  2192.9      81   \n",
       "1           1  2017-05-23 00:00:00  2142.4  2202.8  2100.4  2170.2     311   \n",
       "2           2  2017-05-23 04:00:00  2191.4  2209.1  2122.4  2227.8     299   \n",
       "3           3  2017-05-23 08:00:00  2170.1  2238.8  2113.1  2185.1     489   \n",
       "4           4  2017-05-23 12:00:00  2227.7  2266.5  2174.5  2215.4     638   \n",
       "\n",
       "   status  \n",
       "0     1.0  \n",
       "1     1.0  \n",
       "2     1.0  \n",
       "3     1.0  \n",
       "4    -1.0  "
      ]
     },
     "execution_count": 3,
     "metadata": {},
     "output_type": "execute_result"
    }
   ],
   "source": [
    "conditions = [(df['Close'] > df['Open']), (df['Close'] < df['Open']), (df['Close'] == df['Open'])]\n",
    "choices = [1, -1, 0] # up, down, zero\n",
    "df['status'] = np.select(condlist=conditions, choicelist=choices, default=np.nan)\n",
    "df.to_csv(csvPath)\n",
    "df.head()"
   ]
  },
  {
   "cell_type": "code",
   "execution_count": 4,
   "metadata": {},
   "outputs": [],
   "source": [
    "dfTrain = df.sample(frac=0.9, random_state=0)\n",
    "dfTest = df.drop(dfTrain.index)\n",
    "\n",
    "xTrain = np.asanyarray(dfTrain[['Volume', 'status']])\n",
    "yTrain = np.asanyarray(dfTrain[['Close']])\n",
    "\n",
    "xTest = np.asanyarray(dfTest[['Volume', 'status']])\n",
    "yTest = np.asanyarray(dfTest[['Close']])"
   ]
  },
  {
   "cell_type": "code",
   "execution_count": 5,
   "metadata": {},
   "outputs": [
    {
     "name": "stdout",
     "output_type": "stream",
     "text": [
      "800\n",
      "7201\n"
     ]
    }
   ],
   "source": [
    "print(len(dfTest))\n",
    "print(len(dfTrain))"
   ]
  },
  {
   "cell_type": "code",
   "execution_count": 6,
   "metadata": {},
   "outputs": [
    {
     "name": "stdout",
     "output_type": "stream",
     "text": [
      "R2 score : -0.002014384337189812\n"
     ]
    }
   ],
   "source": [
    "reg = linear_model.LinearRegression()\n",
    "reg.fit(xTrain, yTrain)\n",
    "yPred = reg.predict(xTest)\n",
    "\n",
    "print(\"R2 score : {}\".format(r2_score(yTest, yPred)))"
   ]
  }
 ],
 "metadata": {
  "kernelspec": {
   "display_name": "Python 3.9.13 64-bit",
   "language": "python",
   "name": "python3"
  },
  "language_info": {
   "codemirror_mode": {
    "name": "ipython",
    "version": 3
   },
   "file_extension": ".py",
   "mimetype": "text/x-python",
   "name": "python",
   "nbconvert_exporter": "python",
   "pygments_lexer": "ipython3",
   "version": "3.9.13"
  },
  "orig_nbformat": 4,
  "vscode": {
   "interpreter": {
    "hash": "e7370f93d1d0cde622a1f8e1c04877d8463912d04d973331ad4851f04de6915a"
   }
  }
 },
 "nbformat": 4,
 "nbformat_minor": 2
}
