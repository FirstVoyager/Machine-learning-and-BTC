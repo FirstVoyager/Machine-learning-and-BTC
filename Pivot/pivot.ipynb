{
 "cells": [
  {
   "cell_type": "code",
   "execution_count": 59,
   "metadata": {},
   "outputs": [],
   "source": [
    "# libraries\n",
    "import pandas as pd\n",
    "import numpy as np\n",
    "import matplotlib.pyplot as plt"
   ]
  },
  {
   "cell_type": "code",
   "execution_count": 60,
   "metadata": {},
   "outputs": [
    {
     "data": {
      "text/plain": [
       "['Unnamed: 0.2',\n",
       " 'Unnamed: 0.1',\n",
       " 'Unnamed: 0',\n",
       " 'Time',\n",
       " 'Open',\n",
       " 'High',\n",
       " 'Low',\n",
       " 'Close',\n",
       " 'Volume']"
      ]
     },
     "execution_count": 60,
     "metadata": {},
     "output_type": "execute_result"
    }
   ],
   "source": [
    "# read data\n",
    "csvPath = 'BTCUSD_H4.csv'\n",
    "df = pd.read_csv(csvPath)\n",
    "df.columns.tolist()\n",
    "\n",
    "# convert small list\n",
    "# df = df.sample(frac=0.1, random_state=4)"
   ]
  },
  {
   "cell_type": "code",
   "execution_count": 61,
   "metadata": {},
   "outputs": [],
   "source": [
    "# to int\n",
    "df['High'] = df['High'].astype(int)\n",
    "df['Open'] = df['Open'].astype(int)\n",
    "df['Low'] = df['Low'].astype(int)\n",
    "df['Close'] = df['Close'].astype(int)\n",
    "df['Volume'] = df['Volume'].astype(int)\n",
    "df['Time'] = pd.to_datetime(df['Time'])\n",
    "df.to_csv(csvPath)"
   ]
  },
  {
   "cell_type": "code",
   "execution_count": 62,
   "metadata": {},
   "outputs": [
    {
     "name": "stdout",
     "output_type": "stream",
     "text": [
      "7 62499\n",
      "45 57447\n",
      "59 57448\n",
      "68 59603\n",
      "80 58590\n",
      "90 61012\n",
      "113 58060\n",
      "131 43654\n",
      "141 55439\n",
      "154 59381\n",
      "165 57357\n",
      "186 47420\n",
      "200 62030\n",
      "217 63728\n",
      "228 48177\n",
      "238 59082\n",
      "262 61212\n",
      "293 64308\n",
      "324 59246\n",
      "343 57059\n",
      "366 41958\n",
      "377 57361\n",
      "386 31788\n",
      "395 64490\n",
      "413 56902\n",
      "423 48037\n",
      "443 58363\n",
      "457 65281\n",
      "467 42089\n",
      "488 48584\n",
      "499 46921\n",
      "515 62484\n",
      "527 59211\n",
      "544 62165\n",
      "563 57699\n",
      "585 67308\n",
      "605 57755\n",
      "615 59666\n",
      "631 47833\n",
      "640 47390\n",
      "650 67242\n",
      "662 54371\n",
      "675 49377\n",
      "695 68932\n",
      "714 50426\n",
      "730 63810\n",
      "739 54633\n",
      "749 67036\n",
      "767 51586\n",
      "788 55022\n",
      "805 62509\n",
      "818 57597\n",
      "840 65216\n",
      "875 43857\n",
      "888 58866\n",
      "913 46860\n",
      "923 63970\n",
      "941 68480\n",
      "966 63485\n",
      "986 56788\n",
      "995 50839\n",
      "1011 62697\n",
      "1024 59192\n",
      "1049 60524\n",
      "1071 51922\n",
      "1084 63223\n",
      "1107 52782\n",
      "1122 61430\n",
      "1131 59022\n",
      "1142 59125\n",
      "1157 57763\n",
      "1173 62640\n",
      "1182 56284\n",
      "1197 66078\n",
      "1225 59394\n",
      "1236 59935\n",
      "1250 54000\n",
      "1264 56416\n",
      "1278 52735\n",
      "1290 58016\n",
      "1309 51798\n",
      "1318 24131\n",
      "1330 42549\n",
      "1341 58962\n",
      "1367 64395\n",
      "1388 57095\n",
      "1404 59657\n",
      "1421 61657\n",
      "1434 57922\n",
      "1443 61208\n",
      "1463 61470\n",
      "1472 65584\n",
      "1483 66642\n",
      "1495 63050\n",
      "1521 46996\n",
      "1531 44073\n",
      "1540 51648\n",
      "1565 61451\n",
      "1575 58086\n"
     ]
    }
   ],
   "source": [
    "# calcute pivots\n",
    "pivots = []\n",
    "dates = []\n",
    "counter = 0\n",
    "lastPivot = 0\n",
    "Range = [0, 0, 0, 0, 0, 0, 0, 0, 0, 0, 0]\n",
    "dateRange = [0, 0, 0, 0, 0, 0, 0, 0, 0, 0, 0]\n",
    "\n",
    "for i in df.index:\n",
    "    currentMax = max(Range, default=0) \n",
    "    value = round(df['High'][i], 2)\n",
    "\n",
    "    Range = Range[1:9]\n",
    "    Range.append(value)\n",
    "    dateRange = dateRange[1:9]\n",
    "    dateRange.append(i)\n",
    "\n",
    "    if currentMax == max(Range, default=0):\n",
    "        counter += 1\n",
    "    else:\n",
    "        counter = 0\n",
    "    if counter == 8:\n",
    "        lastPivot = currentMax\n",
    "        dateloc = Range.index(lastPivot)\n",
    "        lastDate = dateRange[dateloc]\n",
    "        pivots.append(currentMax)\n",
    "        dates.append(lastDate)\n",
    "\n",
    "for i in range(len(pivots)):\n",
    "    print(dates[i], pivots[i])"
   ]
  },
  {
   "cell_type": "code",
   "execution_count": 77,
   "metadata": {},
   "outputs": [
    {
     "data": {
      "image/png": "[encoded data removed]",
      "text/plain": [
       "<Figure size 432x288 with 1 Axes>"
      ]
     },
     "metadata": {
      "needs_background": "light"
     },
     "output_type": "display_data"
    }
   ],
   "source": [
    "# show pivots\n",
    "plt.scatter(df['Time'], df['Close'], color='red', s=1)\n",
    "# plt.plot(dates, pivots, linewidth=2, marker='.', color='red')\n",
    "# for i in range(len(pivots)):\n",
    "#     plt.plot_date(dates[i], pivots[i], linestyle='-', marker=',', color='red')\n",
    "plt.xlabel('Date')\n",
    "plt.ylabel('Price')\n",
    "plt.title('Pivots')\n",
    "plt.show()"
   ]
  },
  {
   "cell_type": "markdown",
   "metadata": {},
   "source": [
    "\n"
   ]
  }
 ],
 "metadata": {
  "kernelspec": {
   "display_name": "Python 3.9.12 64-bit",
   "language": "python",
   "name": "python3"
  },
  "language_info": {
   "codemirror_mode": {
    "name": "ipython",
    "version": 3
   },
   "file_extension": ".py",
   "mimetype": "text/x-python",
   "name": "python",
   "nbconvert_exporter": "python",
   "pygments_lexer": "ipython3",
   "version": "3.9.13"
  },
  "orig_nbformat": 4,
  "vscode": {
   "interpreter": {
    "hash": "767d51c1340bd893661ea55ea3124f6de3c7a262a8b4abca0554b478b1e2ff90"
   }
  }
 },
 "nbformat": 4,
 "nbformat_minor": 2
}
