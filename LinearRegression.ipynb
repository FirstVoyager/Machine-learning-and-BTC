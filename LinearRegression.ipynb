{
 "cells": [
  {
   "cell_type": "code",
   "execution_count": 34,
   "metadata": {},
   "outputs": [],
   "source": [
    "# import libraries\n",
    "import pandas as pd\n",
    "import numpy as np\n",
    "import matplotlib.pyplot as plt\n",
    "from sklearn.linear_model import LinearRegression\n",
    "from sklearn.metrics import r2_score"
   ]
  },
  {
   "cell_type": "code",
   "execution_count": 35,
   "metadata": {},
   "outputs": [
    {
     "data": {
      "text/html": [
       "<div>\n",
       "<style scoped>\n",
       "    .dataframe tbody tr th:only-of-type {\n",
       "        vertical-align: middle;\n",
       "    }\n",
       "\n",
       "    .dataframe tbody tr th {\n",
       "        vertical-align: top;\n",
       "    }\n",
       "\n",
       "    .dataframe thead th {\n",
       "        text-align: right;\n",
       "    }\n",
       "</style>\n",
       "<table border=\"1\" class=\"dataframe\">\n",
       "  <thead>\n",
       "    <tr style=\"text-align: right;\">\n",
       "      <th></th>\n",
       "      <th>Time</th>\n",
       "      <th>Open</th>\n",
       "      <th>High</th>\n",
       "      <th>Low</th>\n",
       "      <th>Close</th>\n",
       "      <th>Volume</th>\n",
       "      <th>size</th>\n",
       "    </tr>\n",
       "  </thead>\n",
       "  <tbody>\n",
       "    <tr>\n",
       "      <th>0</th>\n",
       "      <td>2017-05-22 23:00:00</td>\n",
       "      <td>2104.6</td>\n",
       "      <td>2134.0</td>\n",
       "      <td>2101.3</td>\n",
       "      <td>2131.2</td>\n",
       "      <td>19</td>\n",
       "      <td>32.7</td>\n",
       "    </tr>\n",
       "    <tr>\n",
       "      <th>1</th>\n",
       "      <td>2017-05-22 23:15:00</td>\n",
       "      <td>2131.2</td>\n",
       "      <td>2153.2</td>\n",
       "      <td>2123.7</td>\n",
       "      <td>2132.9</td>\n",
       "      <td>17</td>\n",
       "      <td>29.5</td>\n",
       "    </tr>\n",
       "    <tr>\n",
       "      <th>2</th>\n",
       "      <td>2017-05-22 23:30:00</td>\n",
       "      <td>2132.8</td>\n",
       "      <td>2136.4</td>\n",
       "      <td>2116.8</td>\n",
       "      <td>2135.1</td>\n",
       "      <td>22</td>\n",
       "      <td>19.6</td>\n",
       "    </tr>\n",
       "    <tr>\n",
       "      <th>3</th>\n",
       "      <td>2017-05-22 23:45:00</td>\n",
       "      <td>2142.4</td>\n",
       "      <td>2154.2</td>\n",
       "      <td>2112.8</td>\n",
       "      <td>2142.1</td>\n",
       "      <td>24</td>\n",
       "      <td>41.4</td>\n",
       "    </tr>\n",
       "    <tr>\n",
       "      <th>4</th>\n",
       "      <td>2017-05-23 00:00:00</td>\n",
       "      <td>2142.4</td>\n",
       "      <td>2169.6</td>\n",
       "      <td>2117.5</td>\n",
       "      <td>2162.3</td>\n",
       "      <td>16</td>\n",
       "      <td>52.1</td>\n",
       "    </tr>\n",
       "  </tbody>\n",
       "</table>\n",
       "</div>"
      ],
      "text/plain": [
       "                  Time    Open    High     Low   Close  Volume  size\n",
       "0  2017-05-22 23:00:00  2104.6  2134.0  2101.3  2131.2      19  32.7\n",
       "1  2017-05-22 23:15:00  2131.2  2153.2  2123.7  2132.9      17  29.5\n",
       "2  2017-05-22 23:30:00  2132.8  2136.4  2116.8  2135.1      22  19.6\n",
       "3  2017-05-22 23:45:00  2142.4  2154.2  2112.8  2142.1      24  41.4\n",
       "4  2017-05-23 00:00:00  2142.4  2169.6  2117.5  2162.3      16  52.1"
      ]
     },
     "execution_count": 35,
     "metadata": {},
     "output_type": "execute_result"
    }
   ],
   "source": [
    "# read data\n",
    "csvPath = 'BTCUSD_M15.csv'\n",
    "df = pd.read_csv(csvPath)\n",
    "df.head()"
   ]
  },
  {
   "cell_type": "code",
   "execution_count": 36,
   "metadata": {},
   "outputs": [],
   "source": [
    "# Preprossing data\n",
    "\n",
    "# convert to number\n",
    "df = df.astype({'Open': int, 'High': int, 'Low': int, 'Close': int, 'Volume': int})"
   ]
  },
  {
   "cell_type": "code",
   "execution_count": 37,
   "metadata": {},
   "outputs": [
    {
     "data": {
      "image/png": "[encoded data removed]",
      "text/plain": [
       "<Figure size 432x288 with 1 Axes>"
      ]
     },
     "metadata": {
      "needs_background": "light"
     },
     "output_type": "display_data"
    }
   ],
   "source": [
    "# plot data\n",
    "volume = np.asanyarray(df[['Volume']])\n",
    "close = np.asanyarray(df[['Close']])\n",
    "\n",
    "plt.scatter(volume, close, s=0.2)\n",
    "plt.xlabel('Volume')\n",
    "plt.ylabel('Close')\n",
    "plt.show()"
   ]
  },
  {
   "cell_type": "code",
   "execution_count": 38,
   "metadata": {},
   "outputs": [
    {
     "name": "stdout",
     "output_type": "stream",
     "text": [
      "Predict: 0.006360059802023699%\n"
     ]
    }
   ],
   "source": [
    "# Simple Linear regression\n",
    "dfTrain = df.sample(frac=0.8, random_state=4)\n",
    "dfTest = df.drop(dfTrain.index)\n",
    "\n",
    "volumeTrain = np.asanyarray(dfTrain[['Volume']])\n",
    "closeTrain = np.asanyarray(dfTrain[['Close']])\n",
    "volumeTest = np.asanyarray(dfTest[['Volume']])\n",
    "closeTest = np.asanyarray(dfTest[['Close']])\n",
    "\n",
    "reg = LinearRegression()\n",
    "reg.fit(volumeTrain, closeTrain)\n",
    "closePredict = reg.predict(volumeTest)\n",
    "\n",
    "percent = r2_score(closeTest, closePredict)\n",
    "print(\"Predict: {}%\".format(percent))"
   ]
  },
  {
   "cell_type": "code",
   "execution_count": 39,
   "metadata": {},
   "outputs": [],
   "source": [
    "## add size of candle\n",
    "# df['size'] = df['High'] - df['Low']\n",
    "# df['size'] = df['size'].apply(pd.to_numeric, errors='coerce')\n",
    "\n",
    "## save changes\n",
    "#df.to_csv(csvPath)\n",
    "#df.head()"
   ]
  },
  {
   "cell_type": "code",
   "execution_count": 40,
   "metadata": {},
   "outputs": [
    {
     "data": {
      "image/png": "[encoded data removed]",
      "text/plain": [
       "<Figure size 432x288 with 1 Axes>"
      ]
     },
     "metadata": {
      "needs_background": "light"
     },
     "output_type": "display_data"
    },
    {
     "name": "stdout",
     "output_type": "stream",
     "text": [
      "Predict: 0.4848979441508322%\n"
     ]
    }
   ],
   "source": [
    "# plot with size\n",
    "x = np.asanyarray(df[['Close']])\n",
    "y = np.asanyarray(df[['size']])\n",
    "plt.title('Size and Close')\n",
    "plt.scatter(x, y, s=0.3)\n",
    "plt.xlabel('Close')\n",
    "plt.ylabel('Size of candles(High - Low)')\n",
    "plt.show()\n",
    "\n",
    "# predict with size of candles\n",
    "sizeTrain = np.asanyarray(dfTrain[['size']])\n",
    "sizeTest = np.asanyarray(dfTest[['size']])\n",
    "\n",
    "reg.fit(sizeTrain, closeTrain)\n",
    "closePredict = reg.predict(sizeTest)\n",
    "percent = r2_score(closeTest, closePredict)\n",
    "print('Predict: {}%'.format(percent))"
   ]
  },
  {
   "cell_type": "code",
   "execution_count": 49,
   "metadata": {},
   "outputs": [
    {
     "name": "stdout",
     "output_type": "stream",
     "text": [
      "Shifted\n"
     ]
    }
   ],
   "source": [
    "# shift Close to up\n",
    "# df['close_real'] = df['Close']\n",
    "# df['Close'] = df['Close'].shift(-1)\n",
    "df.tail()\n",
    "print('Shifted')\n",
    "\n",
    "\n",
    "# delete last and first row\n",
    "# df = df[1:-1]\n",
    "df.head()\n",
    "df.to_csv(csvPath)"
   ]
  },
  {
   "cell_type": "code",
   "execution_count": 50,
   "metadata": {},
   "outputs": [
    {
     "data": {
      "image/png": "[encoded data removed]",
      "text/plain": [
       "<Figure size 432x288 with 1 Axes>"
      ]
     },
     "metadata": {
      "needs_background": "light"
     },
     "output_type": "display_data"
    },
    {
     "name": "stdout",
     "output_type": "stream",
     "text": [
      "Predict: 0.4848979441508322%\n"
     ]
    }
   ],
   "source": [
    "# predict after shift close\n",
    "# plot with size\n",
    "x = np.asanyarray(df[['Close']])\n",
    "y = np.asanyarray(df[['size']])\n",
    "plt.title('Size and Close')\n",
    "plt.scatter(x, y, s=0.3)\n",
    "plt.xlabel('Close')\n",
    "plt.ylabel('Size of candles(High - Low)')\n",
    "plt.show()\n",
    "\n",
    "# predict with size of candles\n",
    "sizeTrain = np.asanyarray(dfTrain[['size']])\n",
    "sizeTest = np.asanyarray(dfTest[['size']])\n",
    "\n",
    "reg.fit(sizeTrain, closeTrain)\n",
    "closePredict = reg.predict(sizeTest)\n",
    "percent = r2_score(closeTest, closePredict)\n",
    "print('Predict: {}%'.format(percent))"
   ]
  },
  {
   "cell_type": "code",
   "execution_count": 51,
   "metadata": {},
   "outputs": [
    {
     "data": {
      "text/html": [
       "<div>\n",
       "<style scoped>\n",
       "    .dataframe tbody tr th:only-of-type {\n",
       "        vertical-align: middle;\n",
       "    }\n",
       "\n",
       "    .dataframe tbody tr th {\n",
       "        vertical-align: top;\n",
       "    }\n",
       "\n",
       "    .dataframe thead th {\n",
       "        text-align: right;\n",
       "    }\n",
       "</style>\n",
       "<table border=\"1\" class=\"dataframe\">\n",
       "  <thead>\n",
       "    <tr style=\"text-align: right;\">\n",
       "      <th></th>\n",
       "      <th>Time</th>\n",
       "      <th>Open</th>\n",
       "      <th>High</th>\n",
       "      <th>Low</th>\n",
       "      <th>Close</th>\n",
       "      <th>Volume</th>\n",
       "      <th>size</th>\n",
       "      <th>close_real</th>\n",
       "    </tr>\n",
       "  </thead>\n",
       "  <tbody>\n",
       "    <tr>\n",
       "      <th>1</th>\n",
       "      <td>2017-05-22 23:15:00</td>\n",
       "      <td>2131</td>\n",
       "      <td>2153</td>\n",
       "      <td>2123</td>\n",
       "      <td>2135.0</td>\n",
       "      <td>17</td>\n",
       "      <td>29.5</td>\n",
       "      <td>2135.0</td>\n",
       "    </tr>\n",
       "    <tr>\n",
       "      <th>2</th>\n",
       "      <td>2017-05-22 23:30:00</td>\n",
       "      <td>2132</td>\n",
       "      <td>2136</td>\n",
       "      <td>2116</td>\n",
       "      <td>2142.0</td>\n",
       "      <td>22</td>\n",
       "      <td>19.6</td>\n",
       "      <td>2142.0</td>\n",
       "    </tr>\n",
       "    <tr>\n",
       "      <th>3</th>\n",
       "      <td>2017-05-22 23:45:00</td>\n",
       "      <td>2142</td>\n",
       "      <td>2154</td>\n",
       "      <td>2112</td>\n",
       "      <td>2162.0</td>\n",
       "      <td>24</td>\n",
       "      <td>41.4</td>\n",
       "      <td>2162.0</td>\n",
       "    </tr>\n",
       "    <tr>\n",
       "      <th>4</th>\n",
       "      <td>2017-05-23 00:00:00</td>\n",
       "      <td>2142</td>\n",
       "      <td>2169</td>\n",
       "      <td>2117</td>\n",
       "      <td>2175.0</td>\n",
       "      <td>16</td>\n",
       "      <td>52.1</td>\n",
       "      <td>2175.0</td>\n",
       "    </tr>\n",
       "    <tr>\n",
       "      <th>5</th>\n",
       "      <td>2017-05-23 00:15:00</td>\n",
       "      <td>2162</td>\n",
       "      <td>2181</td>\n",
       "      <td>2146</td>\n",
       "      <td>2153.0</td>\n",
       "      <td>16</td>\n",
       "      <td>34.4</td>\n",
       "      <td>2153.0</td>\n",
       "    </tr>\n",
       "    <tr>\n",
       "      <th>...</th>\n",
       "      <td>...</td>\n",
       "      <td>...</td>\n",
       "      <td>...</td>\n",
       "      <td>...</td>\n",
       "      <td>...</td>\n",
       "      <td>...</td>\n",
       "      <td>...</td>\n",
       "      <td>...</td>\n",
       "    </tr>\n",
       "    <tr>\n",
       "      <th>99989</th>\n",
       "      <td>2021-06-09 19:15:00</td>\n",
       "      <td>36228</td>\n",
       "      <td>36282</td>\n",
       "      <td>36109</td>\n",
       "      <td>36419.0</td>\n",
       "      <td>1</td>\n",
       "      <td>173.3</td>\n",
       "      <td>36419.0</td>\n",
       "    </tr>\n",
       "    <tr>\n",
       "      <th>99990</th>\n",
       "      <td>2021-06-09 19:30:00</td>\n",
       "      <td>36218</td>\n",
       "      <td>36469</td>\n",
       "      <td>36202</td>\n",
       "      <td>36362.0</td>\n",
       "      <td>1</td>\n",
       "      <td>266.8</td>\n",
       "      <td>36362.0</td>\n",
       "    </tr>\n",
       "    <tr>\n",
       "      <th>99991</th>\n",
       "      <td>2021-06-09 19:45:00</td>\n",
       "      <td>36419</td>\n",
       "      <td>36424</td>\n",
       "      <td>36336</td>\n",
       "      <td>36521.0</td>\n",
       "      <td>1</td>\n",
       "      <td>87.4</td>\n",
       "      <td>36521.0</td>\n",
       "    </tr>\n",
       "    <tr>\n",
       "      <th>99992</th>\n",
       "      <td>2021-06-09 20:00:00</td>\n",
       "      <td>36362</td>\n",
       "      <td>36540</td>\n",
       "      <td>36349</td>\n",
       "      <td>36222.0</td>\n",
       "      <td>1</td>\n",
       "      <td>191.4</td>\n",
       "      <td>36222.0</td>\n",
       "    </tr>\n",
       "    <tr>\n",
       "      <th>99993</th>\n",
       "      <td>2021-06-09 20:15:00</td>\n",
       "      <td>36521</td>\n",
       "      <td>36561</td>\n",
       "      <td>36186</td>\n",
       "      <td>36601.0</td>\n",
       "      <td>1</td>\n",
       "      <td>375.2</td>\n",
       "      <td>36601.0</td>\n",
       "    </tr>\n",
       "  </tbody>\n",
       "</table>\n",
       "<p>99993 rows × 8 columns</p>\n",
       "</div>"
      ],
      "text/plain": [
       "                      Time   Open   High    Low    Close  Volume   size  \\\n",
       "1      2017-05-22 23:15:00   2131   2153   2123   2135.0      17   29.5   \n",
       "2      2017-05-22 23:30:00   2132   2136   2116   2142.0      22   19.6   \n",
       "3      2017-05-22 23:45:00   2142   2154   2112   2162.0      24   41.4   \n",
       "4      2017-05-23 00:00:00   2142   2169   2117   2175.0      16   52.1   \n",
       "5      2017-05-23 00:15:00   2162   2181   2146   2153.0      16   34.4   \n",
       "...                    ...    ...    ...    ...      ...     ...    ...   \n",
       "99989  2021-06-09 19:15:00  36228  36282  36109  36419.0       1  173.3   \n",
       "99990  2021-06-09 19:30:00  36218  36469  36202  36362.0       1  266.8   \n",
       "99991  2021-06-09 19:45:00  36419  36424  36336  36521.0       1   87.4   \n",
       "99992  2021-06-09 20:00:00  36362  36540  36349  36222.0       1  191.4   \n",
       "99993  2021-06-09 20:15:00  36521  36561  36186  36601.0       1  375.2   \n",
       "\n",
       "       close_real  \n",
       "1          2135.0  \n",
       "2          2142.0  \n",
       "3          2162.0  \n",
       "4          2175.0  \n",
       "5          2153.0  \n",
       "...           ...  \n",
       "99989     36419.0  \n",
       "99990     36362.0  \n",
       "99991     36521.0  \n",
       "99992     36222.0  \n",
       "99993     36601.0  \n",
       "\n",
       "[99993 rows x 8 columns]"
      ]
     },
     "execution_count": 51,
     "metadata": {},
     "output_type": "execute_result"
    }
   ],
   "source": [
    "df"
   ]
  }
 ],
 "metadata": {
  "kernelspec": {
   "display_name": "Python 3.9.12 64-bit",
   "language": "python",
   "name": "python3"
  },
  "language_info": {
   "codemirror_mode": {
    "name": "ipython",
    "version": 3
   },
   "file_extension": ".py",
   "mimetype": "text/x-python",
   "name": "python",
   "nbconvert_exporter": "python",
   "pygments_lexer": "ipython3",
   "version": "3.9.13"
  },
  "orig_nbformat": 4,
  "vscode": {
   "interpreter": {
    "hash": "e7370f93d1d0cde622a1f8e1c04877d8463912d04d973331ad4851f04de6915a"
   }
  }
 },
 "nbformat": 4,
 "nbformat_minor": 2
}
